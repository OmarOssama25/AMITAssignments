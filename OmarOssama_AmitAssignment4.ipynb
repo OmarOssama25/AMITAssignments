{
 "cells": [
  {
   "cell_type": "markdown",
   "metadata": {
    "id": "2a0y9sz6Znvf"
   },
   "source": [
    "### Create a simple class names calculator"
   ]
  },
  {
   "cell_type": "markdown",
   "metadata": {
    "id": "h-9hbnhMZrdV"
   },
   "source": [
    "### Create a constructor that prints Welcome message"
   ]
  },
  {
   "cell_type": "markdown",
   "metadata": {
    "id": "CciUtqOgZtr9"
   },
   "source": [
    "###  Add 2 methods to the class sum & mull"
   ]
  },
  {
   "cell_type": "code",
   "execution_count": 2,
   "metadata": {},
   "outputs": [],
   "source": [
    "class Calculator:\n",
    "    def __init__(self):\n",
    "        print(\"Welcome\")\n",
    "    def sum(self,x,y):\n",
    "        return x+y\n",
    "    def mull(self,x,y):\n",
    "        return x*y"
   ]
  },
  {
   "cell_type": "markdown",
   "metadata": {
    "id": "KX9v_nj0ZwX7"
   },
   "source": [
    "###  The sum method return the sum of 2 arguments x and y"
   ]
  },
  {
   "cell_type": "code",
   "execution_count": 8,
   "metadata": {},
   "outputs": [
    {
     "name": "stdout",
     "output_type": "stream",
     "text": [
      "Welcome\n"
     ]
    },
    {
     "data": {
      "text/plain": [
       "7"
      ]
     },
     "execution_count": 8,
     "metadata": {},
     "output_type": "execute_result"
    }
   ],
   "source": [
    "temp=Calculator()\n",
    "temp.sum(5,2)"
   ]
  },
  {
   "cell_type": "markdown",
   "metadata": {
    "id": "z-zkBmIzZ1mI"
   },
   "source": [
    "### The mull method return the multiplication of the arguments x and y"
   ]
  },
  {
   "cell_type": "code",
   "execution_count": 8,
   "metadata": {},
   "outputs": [
    {
     "data": {
      "text/plain": [
       "10"
      ]
     },
     "execution_count": 8,
     "metadata": {},
     "output_type": "execute_result"
    }
   ],
   "source": [
    "temp.mull(5,2)"
   ]
  },
  {
   "cell_type": "markdown",
   "metadata": {
    "id": "EvC_D3eHZ3mf"
   },
   "source": [
    "###  Take an object from the class"
   ]
  },
  {
   "cell_type": "markdown",
   "metadata": {
    "id": "hY6TnxuoZ9jw"
   },
   "source": [
    "### Explain in few words why we call the self in methods"
   ]
  },
  {
   "cell_type": "code",
   "execution_count": null,
   "metadata": {},
   "outputs": [],
   "source": [
    "instance of the class"
   ]
  },
  {
   "cell_type": "markdown",
   "metadata": {
    "id": "KdsHy2_CZ_d_"
   },
   "source": [
    "### What we mean with OOP 4 Pillars"
   ]
  },
  {
   "cell_type": "code",
   "execution_count": null,
   "metadata": {},
   "outputs": [],
   "source": [
    "encapsulate ,inheritance,polymorphism,abstract"
   ]
  },
  {
   "cell_type": "markdown",
   "metadata": {
    "id": "_WkKdEQSaBlt"
   },
   "source": [
    "###  Why we use OOP in our code"
   ]
  },
  {
   "cell_type": "code",
   "execution_count": null,
   "metadata": {},
   "outputs": [],
   "source": [
    "it makes it easier for us group things of similar methods into one class instead of writing it over and over again \n",
    "so it is effecient"
   ]
  },
  {
   "cell_type": "markdown",
   "metadata": {
    "id": "IdJYRpDlaEca"
   },
   "source": [
    "### Create a new class names SciCalc with 3 methods , sum , mull , power all of them takes 2 argument x, y"
   ]
  },
  {
   "cell_type": "markdown",
   "metadata": {
    "id": "qV1wzT51aHlw"
   },
   "source": [
    "### Sum return the sum of x and y"
   ]
  },
  {
   "cell_type": "markdown",
   "metadata": {
    "id": "EwdGJ1KVaJ9W"
   },
   "source": [
    "###  Mull return the multiplication of x and y"
   ]
  },
  {
   "cell_type": "code",
   "execution_count": null,
   "metadata": {},
   "outputs": [],
   "source": [
    "class SciCalc:\n",
    "  def __init__(self):\n",
    "    pass\n",
    "  def sum(self,x,y):\n",
    "    return x + y\n",
    "\n",
    "  def mul(self,x,y):\n",
    "    return x * y\n",
    "\n",
    "  def pow(self,x,y):\n",
    "    return x**y"
   ]
  },
  {
   "cell_type": "markdown",
   "metadata": {
    "id": "aNNs5VAzaVZx"
   },
   "source": [
    "### Inherit from the Calc class , now remove the unneeded code the the SciCalc after inheriting\n"
   ]
  },
  {
   "cell_type": "code",
   "execution_count": 10,
   "metadata": {},
   "outputs": [
    {
     "data": {
      "text/plain": [
       "12"
      ]
     },
     "execution_count": 10,
     "metadata": {},
     "output_type": "execute_result"
    }
   ],
   "source": [
    "class SciCalc(Calculator):\n",
    "    def __init__(self):\n",
    "        pass\n",
    "    def power(self,x,y):\n",
    "        return x**y\n",
    "temp2=SciCalc()\n",
    "temp2.sum(10,2)"
   ]
  },
  {
   "cell_type": "code",
   "execution_count": 11,
   "metadata": {},
   "outputs": [
    {
     "data": {
      "text/plain": [
       "20"
      ]
     },
     "execution_count": 11,
     "metadata": {},
     "output_type": "execute_result"
    }
   ],
   "source": [
    "temp2.mull(10,2)"
   ]
  },
  {
   "cell_type": "code",
   "execution_count": 12,
   "metadata": {},
   "outputs": [
    {
     "data": {
      "text/plain": [
       "100"
      ]
     },
     "execution_count": 12,
     "metadata": {},
     "output_type": "execute_result"
    }
   ],
   "source": [
    "temp2.power(10,2)"
   ]
  },
  {
   "cell_type": "markdown",
   "metadata": {
    "id": "BkMXbHfMaf5S"
   },
   "source": [
    "### Explain in few words what happened after inheriting"
   ]
  },
  {
   "cell_type": "code",
   "execution_count": null,
   "metadata": {},
   "outputs": [],
   "source": [
    "methods of parent class are inherited in child class so no need for them to be in child class unless they have different form than parent,\n",
    "different in implementation or number of arguments, in this way it should be also in child class with its own form"
   ]
  }
 ],
 "metadata": {
  "colab": {
   "private_outputs": true,
   "provenance": []
  },
  "kernelspec": {
   "display_name": "Python 3 (ipykernel)",
   "language": "python",
   "name": "python3"
  },
  "language_info": {
   "codemirror_mode": {
    "name": "ipython",
    "version": 3
   },
   "file_extension": ".py",
   "mimetype": "text/x-python",
   "name": "python",
   "nbconvert_exporter": "python",
   "pygments_lexer": "ipython3",
   "version": "3.11.5"
  }
 },
 "nbformat": 4,
 "nbformat_minor": 1
}
