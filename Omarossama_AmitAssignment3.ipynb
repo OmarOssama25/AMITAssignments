{
 "cells": [
  {
   "cell_type": "markdown",
   "metadata": {
    "id": "V05BjYlMeMjZ"
   },
   "source": [
    "### program to count number of vowels using sets in given string\n"
   ]
  },
  {
   "cell_type": "code",
   "execution_count": 5,
   "metadata": {},
   "outputs": [
    {
     "name": "stdout",
     "output_type": "stream",
     "text": [
      "Insert name   omar ossama\n"
     ]
    },
    {
     "data": {
      "text/plain": [
       "5"
      ]
     },
     "execution_count": 5,
     "metadata": {},
     "output_type": "execute_result"
    }
   ],
   "source": [
    "vowels=[\"a\",\"e\",\"o\",\"i\",\"u\"]\n",
    "input1=input(\"Insert name   \")\n",
    "count=0\n",
    "for i in input1:\n",
    "    if i in vowels:\n",
    "        count+=1\n",
    "count        "
   ]
  },
  {
   "cell_type": "markdown",
   "metadata": {
    "id": "rdIZGB8kgcMQ"
   },
   "source": [
    "\n",
    "### Write a Python program to add an item to a tuple."
   ]
  },
  {
   "cell_type": "code",
   "execution_count": 9,
   "metadata": {},
   "outputs": [
    {
     "name": "stdout",
     "output_type": "stream",
     "text": [
      "enter a name: omar\n"
     ]
    },
    {
     "data": {
      "text/plain": [
       "['omar', 'ossama', 'mhmd']"
      ]
     },
     "execution_count": 9,
     "metadata": {},
     "output_type": "execute_result"
    }
   ],
   "source": [
    "tup = (\"omar\",\"ossama\",\"mhmd\")\n",
    "x=input(\"enter a name: \")\n",
    "tup=list(tup)\n",
    "tup"
   ]
  },
  {
   "cell_type": "markdown",
   "metadata": {
    "id": "NpZ-cEhZkSlO"
   },
   "source": [
    "### Write a Python program to multiply all the items in a list."
   ]
  },
  {
   "cell_type": "code",
   "execution_count": 12,
   "metadata": {},
   "outputs": [
    {
     "data": {
      "text/plain": [
       "720"
      ]
     },
     "execution_count": 12,
     "metadata": {},
     "output_type": "execute_result"
    }
   ],
   "source": [
    "ls=[1,2,3,4,5,6]\n",
    "mul=1\n",
    "for i in ls:\n",
    "    mul*=i\n",
    "mul    "
   ]
  },
  {
   "cell_type": "markdown",
   "metadata": {
    "id": "2fwBrTI1k1XG"
   },
   "source": [
    "### Write a Python program to get the smallest number from a list."
   ]
  },
  {
   "cell_type": "code",
   "execution_count": 16,
   "metadata": {},
   "outputs": [
    {
     "name": "stdout",
     "output_type": "stream",
     "text": [
      "[620, 509, 710, 501, 485, 816, 874, 61, 233, 735]\n",
      "61\n"
     ]
    }
   ],
   "source": [
    "import random\n",
    "lis=[]\n",
    "for i in range(10):\n",
    "    lis.append(random.randint(0,1000))\n",
    "print(lis)    \n",
    "print(min(lis))"
   ]
  },
  {
   "cell_type": "markdown",
   "metadata": {
    "id": "-k8pdXDek5IW"
   },
   "source": [
    "### Write a Python program to get the largest number from a list."
   ]
  },
  {
   "cell_type": "code",
   "execution_count": 17,
   "metadata": {},
   "outputs": [
    {
     "name": "stdout",
     "output_type": "stream",
     "text": [
      "[340, 675, 573, 743, 491, 478, 78, 60, 345, 236]\n",
      "743\n"
     ]
    }
   ],
   "source": [
    "import random\n",
    "lis=[]\n",
    "for i in range(10):\n",
    "    lis.append(random.randint(0,1000))\n",
    "print(lis)    \n",
    "print(max(lis))"
   ]
  },
  {
   "cell_type": "markdown",
   "metadata": {
    "id": "xY1nqjlSlC7b"
   },
   "source": [
    "### Write a Python program to clone or copy a list"
   ]
  },
  {
   "cell_type": "code",
   "execution_count": 22,
   "metadata": {},
   "outputs": [
    {
     "name": "stdout",
     "output_type": "stream",
     "text": [
      "[320, 827, 478, 520, 360, 718, 186, 858, 709, 181]\n",
      "[320, 827, 478, 520, 360, 718, 186, 858, 709, 181]\n"
     ]
    }
   ],
   "source": [
    "import random\n",
    "lis1=[]\n",
    "lis2=[]\n",
    "for i in range(10):\n",
    "    lis1.append(random.randint(0,1000))\n",
    "for i in lis1:\n",
    "  lis2.append(i)\n",
    "print(lis1)\n",
    "print(lis2)\n",
    "     "
   ]
  },
  {
   "cell_type": "markdown",
   "metadata": {
    "id": "48pndthSlHSg"
   },
   "source": [
    "### Write a Python program to remove item(s) from a given set.\n",
    "\n",
    "### s = set([0, 1, 3, 4, 5])"
   ]
  },
  {
   "cell_type": "code",
   "execution_count": 23,
   "metadata": {},
   "outputs": [
    {
     "name": "stdout",
     "output_type": "stream",
     "text": [
      "{13, 6547, 214, 123}\n"
     ]
    }
   ],
   "source": [
    "set1 = set([214,6547,123,756,13])\n",
    "set1.remove(756)\n",
    "print(set1)"
   ]
  },
  {
   "cell_type": "markdown",
   "metadata": {
    "id": "J5nHkSQ4lmlq"
   },
   "source": [
    "### Write a Python program to find the maximum and minimum values in a set."
   ]
  },
  {
   "cell_type": "code",
   "execution_count": 24,
   "metadata": {},
   "outputs": [
    {
     "name": "stdout",
     "output_type": "stream",
     "text": [
      "max is 6547, min is 13\n"
     ]
    }
   ],
   "source": [
    "print(f\"max is {max(set1)}, min is {min(set1)}\")"
   ]
  },
  {
   "cell_type": "markdown",
   "metadata": {
    "id": "ZDEKN9ulnLZO"
   },
   "source": [
    "### Write a Python program to convert a tuple to a dictionary.\n",
    "### dict1 = {}\n",
    "### tuple1 = (\"name\", \"age\", \"city\",\"city\")\n",
    "\n",
    "```\n",
    "# enumerate()\n",
    "```\n",
    "\n"
   ]
  },
  {
   "cell_type": "code",
   "execution_count": 25,
   "metadata": {},
   "outputs": [
    {
     "name": "stdout",
     "output_type": "stream",
     "text": [
      "{0: 'name', 1: 'age', 2: 'city', 3: 'city'}\n"
     ]
    }
   ],
   "source": [
    "tuple1 = (\"name\", \"age\", \"city\",\"city\")\n",
    "dic=dict(enumerate(tuple1))\n",
    "print(dic)"
   ]
  },
  {
   "cell_type": "markdown",
   "metadata": {
    "id": "UN1IZCJHsWcX"
   },
   "source": [
    "### Write a Python program to replace the last value of tuples in a list.\n",
    "\n",
    "### Sample list: [(10, 20, 40), (40, 50, 60), (70, 80, 90)]\n",
    "\n",
    "### Expected Output: [(10, 20, 100), (40, 50, 100), (70, 80, 100)]\n",
    "\n"
   ]
  },
  {
   "cell_type": "code",
   "execution_count": 31,
   "metadata": {},
   "outputs": [
    {
     "data": {
      "text/plain": [
       "[(10, 20, 100), (40, 50, 100), (70, 80, 100)]"
      ]
     },
     "execution_count": 31,
     "metadata": {},
     "output_type": "execute_result"
    }
   ],
   "source": [
    "ls = [(10,20,40),(40,50,60),(70,80,90)]\n",
    "ls = [(x,y,100) for (x,y,z) in ls]\n",
    "ls"
   ]
  }
 ],
 "metadata": {
  "colab": {
   "provenance": []
  },
  "kernelspec": {
   "display_name": "Python 3 (ipykernel)",
   "language": "python",
   "name": "python3"
  },
  "language_info": {
   "codemirror_mode": {
    "name": "ipython",
    "version": 3
   },
   "file_extension": ".py",
   "mimetype": "text/x-python",
   "name": "python",
   "nbconvert_exporter": "python",
   "pygments_lexer": "ipython3",
   "version": "3.11.5"
  }
 },
 "nbformat": 4,
 "nbformat_minor": 1
}
