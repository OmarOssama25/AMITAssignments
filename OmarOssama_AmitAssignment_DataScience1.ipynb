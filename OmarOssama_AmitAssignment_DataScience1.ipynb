{
  "cells": [
    {
      "cell_type": "code",
      "execution_count": 1,
      "metadata": {
        "id": "R95t42GdEcDK"
      },
      "outputs": [],
      "source": [
        "import numpy as np"
      ]
    },
    {
      "cell_type": "markdown",
      "metadata": {
        "id": "Y2gqLawyEzvi"
      },
      "source": [
        "1) Write a NumPy program to test whether none of the elements of a given array is zero"
      ]
    },
    {
      "cell_type": "code",
      "execution_count": 6,
      "metadata": {
        "colab": {
          "base_uri": "https://localhost:8080/"
        },
        "id": "ZVIDQ6gNEy0q",
        "outputId": "10817a57-6127-4ff8-9878-8024bd60877c"
      },
      "outputs": [
        {
          "name": "stdout",
          "output_type": "stream",
          "text": [
            "(9,)\n",
            "(9,)\n"
          ]
        }
      ],
      "source": [
        "arr1 = np.array([0,1,2,3,4,0,0,5,6])\n",
        "arr2 = np.array([0,1.01,2,0,3,4.02,5,5,6.06])\n",
        "print(arr1.shape)\n",
        "print(arr2.shape)"
      ]
    },
    {
      "cell_type": "code",
      "execution_count": 3,
      "metadata": {
        "colab": {
          "base_uri": "https://localhost:8080/"
        },
        "id": "AcPSS3akHw3D",
        "outputId": "81a9f6e9-013d-49e5-b495-e183b8ba49d6"
      },
      "outputs": [
        {
          "data": {
            "text/plain": [
              "array([ True, False, False, False, False,  True,  True, False, False])"
            ]
          },
          "execution_count": 3,
          "metadata": {},
          "output_type": "execute_result"
        }
      ],
      "source": [
        "arr1==0"
      ]
    },
    {
      "cell_type": "markdown",
      "metadata": {
        "id": "fue8_-YhH11h"
      },
      "source": [
        "2) Write a NumPy program to test whether any of the elements of a given array is non-zero."
      ]
    },
    {
      "cell_type": "code",
      "execution_count": 4,
      "metadata": {
        "colab": {
          "base_uri": "https://localhost:8080/"
        },
        "id": "vFNo6qd5H3G5",
        "outputId": "53a1eac5-bdfa-4c95-8cf5-21c08385d94e"
      },
      "outputs": [
        {
          "data": {
            "text/plain": [
              "array([False,  True,  True,  True,  True, False, False,  True,  True])"
            ]
          },
          "execution_count": 4,
          "metadata": {},
          "output_type": "execute_result"
        }
      ],
      "source": [
        "arr1>0"
      ]
    },
    {
      "cell_type": "markdown",
      "metadata": {
        "id": "jnXXU344H5sK"
      },
      "source": [
        "3) Write a NumPy program to create an element-wise comparison (equal, equal within a tolerance) of two given"
      ]
    },
    {
      "cell_type": "code",
      "execution_count": 20,
      "metadata": {
        "colab": {
          "base_uri": "https://localhost:8080/"
        },
        "id": "nzBmAL8cH6d5",
        "outputId": "4a2a3b29-9dad-4e42-825e-5aa4dafcf576"
      },
      "outputs": [
        {
          "name": "stdout",
          "output_type": "stream",
          "text": [
            "False\n",
            "False\n",
            "True\n"
          ]
        }
      ],
      "source": [
        "print(np.allclose(arr1,arr2))\n",
        "print(np.allclose(arr1,arr2,atol = 0.01))\n",
        "print(np.allclose(arr1,arr2,atol = 5))"
      ]
    },
    {
      "cell_type": "markdown",
      "metadata": {
        "id": "sI8-FtI3I39K"
      },
      "source": [
        "4) Write a NumPy program to create an array of 10 zeros,10 ones, 10 fives"
      ]
    },
    {
      "cell_type": "code",
      "execution_count": 21,
      "metadata": {
        "colab": {
          "base_uri": "https://localhost:8080/"
        },
        "id": "qcZOnpXeI4sx",
        "outputId": "b51fb2d4-6dee-444b-f89c-06d89b5199a3"
      },
      "outputs": [
        {
          "data": {
            "text/plain": [
              "array([1., 1., 1., 1., 1., 1., 1., 1., 1., 1., 0., 0., 0., 0., 0., 0., 0.,\n",
              "       0., 0., 0., 5., 5., 5., 5., 5., 5., 5., 5., 5., 5.])"
            ]
          },
          "execution_count": 21,
          "metadata": {},
          "output_type": "execute_result"
        }
      ],
      "source": [
        "arr1=np.ones(10)\n",
        "arr2=np.zeros(10)\n",
        "arr3=5*np.ones(10)\n",
        "arr4 = np.hstack((arr1, arr2))\n",
        "arr5 = np.hstack((arr4, arr3))\n",
        "arr5"
      ]
    },
    {
      "cell_type": "markdown",
      "metadata": {
        "id": "PKYvaJs7JKia"
      },
      "source": [
        "5) Write a NumPy program to create an array of the integers from 30 to70."
      ]
    },
    {
      "cell_type": "code",
      "execution_count": 22,
      "metadata": {
        "colab": {
          "base_uri": "https://localhost:8080/"
        },
        "id": "XmMYPgQxJLPp",
        "outputId": "8e2a2c8e-d9f9-4615-92aa-ab7a44523c5f"
      },
      "outputs": [
        {
          "data": {
            "text/plain": [
              "array([30, 31, 32, 33, 34, 35, 36, 37, 38, 39, 40, 41, 42, 43, 44, 45, 46,\n",
              "       47, 48, 49, 50, 51, 52, 53, 54, 55, 56, 57, 58, 59, 60, 61, 62, 63,\n",
              "       64, 65, 66, 67, 68, 69, 70])"
            ]
          },
          "execution_count": 22,
          "metadata": {},
          "output_type": "execute_result"
        }
      ],
      "source": [
        "arr1=np.arange(30,71)\n",
        "arr1"
      ]
    },
    {
      "cell_type": "markdown",
      "metadata": {
        "id": "v-6v6jLOJo_g"
      },
      "source": [
        "6) Write a NumPy program to create a 3x3 identity matrix"
      ]
    },
    {
      "cell_type": "code",
      "execution_count": 24,
      "metadata": {
        "colab": {
          "base_uri": "https://localhost:8080/"
        },
        "id": "v-Zw7TryJqEH",
        "outputId": "85246e1f-159e-4dc5-87c4-bc308cb2c22b"
      },
      "outputs": [
        {
          "data": {
            "text/plain": [
              "array([[1., 0., 0.],\n",
              "       [0., 1., 0.],\n",
              "       [0., 0., 1.]])"
            ]
          },
          "execution_count": 24,
          "metadata": {},
          "output_type": "execute_result"
        }
      ],
      "source": [
        "arr1=np.identity(3)\n",
        "arr1"
      ]
    },
    {
      "cell_type": "markdown",
      "metadata": {
        "id": "BLRemtkbJ1B4"
      },
      "source": [
        "7) Write a NumPy program to generate a random number between 0 and 1"
      ]
    },
    {
      "cell_type": "code",
      "execution_count": 25,
      "metadata": {
        "colab": {
          "base_uri": "https://localhost:8080/"
        },
        "id": "k5cy57CQJy3B",
        "outputId": "a3bbc984-2c61-4cf7-badc-34e27d438828"
      },
      "outputs": [
        {
          "data": {
            "text/plain": [
              "array([0.47739203])"
            ]
          },
          "execution_count": 25,
          "metadata": {},
          "output_type": "execute_result"
        }
      ],
      "source": [
        "arr1=np.random.rand(1)\n",
        "arr1"
      ]
    },
    {
      "cell_type": "markdown",
      "metadata": {
        "id": "UZVSjyQFJ2eY"
      },
      "source": [
        "8) Write a NumPy program to generate an array of 15 random numbers from a standard normal \n",
        "distribution"
      ]
    },
    {
      "cell_type": "code",
      "execution_count": 26,
      "metadata": {
        "colab": {
          "base_uri": "https://localhost:8080/"
        },
        "id": "EyqsScuBJ3Qw",
        "outputId": "b1588ff7-ee56-4e5b-f77b-b844b6cfb6ba"
      },
      "outputs": [
        {
          "data": {
            "text/plain": [
              "array([0.06518124, 0.39755012, 0.60682774, 0.99765103, 0.56254418,\n",
              "       0.72316564, 0.98048906, 0.6488193 , 0.22884984, 0.56828136,\n",
              "       0.49643973, 0.14425366, 0.97953556, 0.17474817, 0.39088118])"
            ]
          },
          "execution_count": 26,
          "metadata": {},
          "output_type": "execute_result"
        }
      ],
      "source": [
        "arr1=np.random.rand(15)\n",
        "arr1"
      ]
    },
    {
      "cell_type": "markdown",
      "metadata": {
        "id": "lTp7HFPRKVOI"
      },
      "source": [
        "9) Write a NumPy program to create a vector with values ranging from 15 to 55 and print all values \n",
        "except the first and last.\n"
      ]
    },
    {
      "cell_type": "code",
      "execution_count": 28,
      "metadata": {
        "colab": {
          "base_uri": "https://localhost:8080/"
        },
        "id": "nGi-o5VPKWBg",
        "outputId": "c889c583-d638-46a0-c410-4e2cb1cdee1a"
      },
      "outputs": [
        {
          "data": {
            "text/plain": [
              "array([16, 17, 18, 19, 20, 21, 22, 23, 24, 25, 26, 27, 28, 29, 30, 31, 32,\n",
              "       33, 34, 35, 36, 37, 38, 39, 40, 41, 42, 43, 44, 45, 46, 47, 48, 49,\n",
              "       50, 51, 52, 53, 54])"
            ]
          },
          "execution_count": 28,
          "metadata": {},
          "output_type": "execute_result"
        }
      ],
      "source": [
        "arr1 = np.arange(15,56)\n",
        "arr1[1:-1]"
      ]
    },
    {
      "cell_type": "markdown",
      "metadata": {
        "id": "jVzKQwhSKy9R"
      },
      "source": [
        "10) Write a NumPy program to create a vector of length 5 filled with arbitrary integers from 0 to 10 "
      ]
    },
    {
      "cell_type": "code",
      "execution_count": 31,
      "metadata": {
        "colab": {
          "base_uri": "https://localhost:8080/"
        },
        "id": "ljPHQw_dKz2J",
        "outputId": "b44072bd-513a-438c-d2a2-dfa164c3a767"
      },
      "outputs": [
        {
          "data": {
            "text/plain": [
              "array([3, 1, 4, 2, 9])"
            ]
          },
          "execution_count": 31,
          "metadata": {},
          "output_type": "execute_result"
        }
      ],
      "source": [
        "arr1=np.random.randint(0, 11,5)\n",
        "arr1"
      ]
    },
    {
      "cell_type": "markdown",
      "metadata": {
        "id": "GlsQlH53M9jQ"
      },
      "source": [
        "11) Write a NumPy program to create a 10x10 matrix, in which the elements on the borders will be equal to 1, and inside 0."
      ]
    },
    {
      "cell_type": "code",
      "execution_count": 43,
      "metadata": {
        "colab": {
          "base_uri": "https://localhost:8080/"
        },
        "id": "aswfmP7SM-Pf",
        "outputId": "47106696-9d8e-4e23-b305-bdca253db0c8"
      },
      "outputs": [
        {
          "data": {
            "text/plain": [
              "array([[1., 1., 1., 1., 1., 1., 1., 1., 1., 1.],\n",
              "       [1., 0., 0., 0., 0., 0., 0., 0., 0., 1.],\n",
              "       [1., 0., 0., 0., 0., 0., 0., 0., 0., 1.],\n",
              "       [1., 0., 0., 0., 0., 0., 0., 0., 0., 1.],\n",
              "       [1., 0., 0., 0., 0., 0., 0., 0., 0., 1.],\n",
              "       [1., 0., 0., 0., 0., 0., 0., 0., 0., 1.],\n",
              "       [1., 0., 0., 0., 0., 0., 0., 0., 0., 1.],\n",
              "       [1., 0., 0., 0., 0., 0., 0., 0., 0., 1.],\n",
              "       [1., 0., 0., 0., 0., 0., 0., 0., 0., 1.],\n",
              "       [1., 1., 1., 1., 1., 1., 1., 1., 1., 1.]])"
            ]
          },
          "execution_count": 43,
          "metadata": {},
          "output_type": "execute_result"
        }
      ],
      "source": [
        "arr1 = np.ones([10,10])\n",
        "for i in range(1,9):\n",
        "  arr1[i,1:-1]=0\n",
        "arr1[9]=1\n",
        "arr1"
      ]
    },
    {
      "cell_type": "markdown",
      "metadata": {
        "id": "-bzpG5KwOPm2"
      },
      "source": [
        "12) Write a NumPy program to create a 5x5 zero matrix with elements on the main diagonal equal to 1, 2, 3, 4, 5.\n"
      ]
    },
    {
      "cell_type": "code",
      "execution_count": 44,
      "metadata": {
        "colab": {
          "base_uri": "https://localhost:8080/"
        },
        "id": "yNYvMYc6OQVW",
        "outputId": "3be447e4-e04b-47a2-cc74-8203008ed041"
      },
      "outputs": [
        {
          "data": {
            "text/plain": [
              "array([[1., 0., 0., 0., 0.],\n",
              "       [0., 2., 0., 0., 0.],\n",
              "       [0., 0., 3., 0., 0.],\n",
              "       [0., 0., 0., 4., 0.],\n",
              "       [0., 0., 0., 0., 5.]])"
            ]
          },
          "execution_count": 44,
          "metadata": {},
          "output_type": "execute_result"
        }
      ],
      "source": [
        "arr1 = np.zeros([5,5])\n",
        "for i in range(5):\n",
        "    arr1[i, i] = i+1\n",
        "arr1"
      ]
    },
    {
      "cell_type": "markdown",
      "metadata": {
        "id": "Z2wIGkYVOocH"
      },
      "source": [
        "13) Write a NumPy program to create a 4x4 matrix in which 0 and 1 are staggered, with zeros on the main diagonal"
      ]
    },
    {
      "cell_type": "code",
      "execution_count": 46,
      "metadata": {
        "colab": {
          "base_uri": "https://localhost:8080/"
        },
        "id": "RlUwxZx9Oq9G",
        "outputId": "4f8f14e2-883e-4a83-829e-027c46256ec1"
      },
      "outputs": [
        {
          "data": {
            "text/plain": [
              "array([[0., 1., 0., 1.],\n",
              "       [1., 0., 1., 0.],\n",
              "       [0., 1., 0., 1.],\n",
              "       [1., 0., 1., 0.]])"
            ]
          },
          "execution_count": 46,
          "metadata": {},
          "output_type": "execute_result"
        }
      ],
      "source": [
        "arr1 = np.zeros([4,4])\n",
        "arr1[::2, 1::2] = 1\n",
        "arr1[1::2,0::2]=1\n",
        "arr1"
      ]
    },
    {
      "cell_type": "markdown",
      "metadata": {
        "id": "j0I_N8v4PNi-"
      },
      "source": [
        "14) Write a NumPy program to save two given arrays into a single file in compressed format (.npz format) and load it."
      ]
    },
    {
      "cell_type": "code",
      "execution_count": 47,
      "metadata": {
        "colab": {
          "base_uri": "https://localhost:8080/"
        },
        "id": "lUlBBHPBPOXe",
        "outputId": "698db8bb-93c9-4366-8e06-6aaf70da0951"
      },
      "outputs": [
        {
          "name": "stdout",
          "output_type": "stream",
          "text": [
            "Loaded Array 1:\n",
            "[1 2 3 4]\n",
            "\n",
            "Loaded Array 2:\n",
            "[5 6 7 8]\n"
          ]
        }
      ],
      "source": [
        "arr1 = np.array([1, 2, 3, 4])\n",
        "arr2 = np.array([5, 6, 7, 8])\n",
        "np.savez_compressed('file.npz', array1=arr1, array2=arr2)\n",
        "data = np.load('file.npz')\n",
        "new_arr1 = data['array1']\n",
        "new_arr2 = data['array2']\n",
        "print(\"Loaded Array 1:\")\n",
        "print(new_arr1)\n",
        "print(\"\\nLoaded Array 2:\")\n",
        "print(new_arr2)"
      ]
    },
    {
      "cell_type": "markdown",
      "metadata": {
        "id": "3OXtTy4tPfH2"
      },
      "source": [
        "15) Write a NumPy program to create a one-dimensional array of forty pseudo-randomly generated values. Select"
      ]
    },
    {
      "cell_type": "code",
      "execution_count": 48,
      "metadata": {
        "colab": {
          "base_uri": "https://localhost:8080/"
        },
        "id": "B7xEhxJbPgO2",
        "outputId": "d8cb62c1-bf22-4e90-b57e-2031db679d67"
      },
      "outputs": [
        {
          "data": {
            "text/plain": [
              "array([0.71263168, 0.10366105, 0.60214546, 0.64273737, 0.64554321,\n",
              "       0.52910441, 0.06450099, 0.28065239, 0.40014689, 0.50737469,\n",
              "       0.42984419, 0.01396396, 0.13396818, 0.18439353, 0.16727542,\n",
              "       0.02879408, 0.26863464, 0.1609817 , 0.20712166, 0.50468184,\n",
              "       0.47149058, 0.72920485, 0.97065276, 0.20384423, 0.70834413,\n",
              "       0.12680869, 0.08326058, 0.49535589, 0.36941717, 0.77729835,\n",
              "       0.48181447, 0.3653205 , 0.93491121, 0.38338857, 0.28760607,\n",
              "       0.91756406, 0.93078167, 0.9811232 , 0.86188277, 0.88785217])"
            ]
          },
          "execution_count": 48,
          "metadata": {},
          "output_type": "execute_result"
        }
      ],
      "source": [
        "arr1 = np.random.rand(40)\n",
        "arr1"
      ]
    },
    {
      "cell_type": "markdown",
      "metadata": {
        "id": "nQG7SHl9PgpG"
      },
      "source": [
        "16) Write a NumPy program to extract all numbers from a given array which are less and greater than a specified number"
      ]
    },
    {
      "cell_type": "code",
      "execution_count": 52,
      "metadata": {
        "colab": {
          "base_uri": "https://localhost:8080/"
        },
        "id": "QVj3zyibPhb2",
        "outputId": "80f87df0-aca3-45b7-d01f-5d258de91a62"
      },
      "outputs": [
        {
          "name": "stdout",
          "output_type": "stream",
          "text": [
            "Please enter a number: 10\n"
          ]
        },
        {
          "data": {
            "text/plain": [
              "array([15, 14, 13, 19, 14, 18])"
            ]
          },
          "execution_count": 52,
          "metadata": {},
          "output_type": "execute_result"
        }
      ],
      "source": [
        "x = int(input(\"Please enter a number: \"))\n",
        "arr1 = np.random.randint(20,size=20)\n",
        "arr1[arr1>x]"
      ]
    }
  ],
  "metadata": {
    "colab": {
      "provenance": []
    },
    "kernelspec": {
      "display_name": "Python 3",
      "name": "python3"
    },
    "language_info": {
      "name": "python"
    }
  },
  "nbformat": 4,
  "nbformat_minor": 0
}
